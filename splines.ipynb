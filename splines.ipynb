{
 "cells": [
  {
   "cell_type": "code",
   "execution_count": 1,
   "metadata": {},
   "outputs": [],
   "source": [
    "import numpy as np\n",
    "import matplotlib.pyplot as plt"
   ]
  },
  {
   "cell_type": "code",
   "execution_count": 2,
   "metadata": {},
   "outputs": [],
   "source": [
    "def preprocess_data(data):\n",
    "    \"\"\"ok\"\"\"\n",
    "    grid = data[0, :]\n",
    "    left_edges = grid[:-1]\n",
    "    right_edges = grid[1:]\n",
    "    return right_edges - left_edges\n",
    "\n",
    "class Matrix:\n",
    "    \"\"\"ok\"\"\"\n",
    "    def __init__(self, intervals):\n",
    "        self.intervals = intervals\n",
    "    def get(self, i, j):\n",
    "        if i >= len(self.intervals) - 1 or j >= len(self.intervals) - 1:\n",
    "            raise IndexError(\"index ({}, {}) is out of range\".format(i, j))\n",
    "        elif i == j:\n",
    "            return 2.0\n",
    "        elif abs(i-j) > 1:\n",
    "            return 0\n",
    "        else:\n",
    "            a1 = max(i, j)\n",
    "            if j > i:\n",
    "                return self.intervals[i+1]/(self.intervals[i+1] + self.intervals[i])\n",
    "            if j < i:\n",
    "                return self.intervals[i]/(self.intervals[i+1] + self.intervals[i])         \n",
    "\n",
    "class Column:\n",
    "    \"\"\"ok\"\"\"\n",
    "    def __init__(self, values, intervals):\n",
    "        self.values = values\n",
    "        self.intervals = intervals\n",
    "    def get(self, i):\n",
    "        if i >= len(self.intervals) - 1:\n",
    "            raise IndexError('index {} is out of range'.format(i))\n",
    "        u1 = (self.values[i+1] - self.values[i])/self.intervals[i]\n",
    "        u2 = (self.values[i+2] - self.values[i+1])/self.intervals[i+1]\n",
    "        return 6*(u2 - u1) / (self.intervals[i+1] + self.intervals[i])\n",
    "    def __len__(self):\n",
    "        return len(self.intervals) - 1\n",
    "        \n",
    "def forward_stage(matrix, column):\n",
    "    res = np.zeros(((len(column)-1), 2))\n",
    "    res[0][0] = -matrix.get(0, 1)/matrix.get(0, 0)  # p1\n",
    "    res[0][1] = column.get(0)/matrix.get(0, 0)  # q1\n",
    "    print(res[0, :])\n",
    "    for i in range(1, len(column)-1):\n",
    "        ai = matrix.get(i, i-1)\n",
    "        bi = matrix.get(i, i)\n",
    "        ci = matrix.get(i, i+1)\n",
    "        di = column.get(i)\n",
    "        p = res[i-1][0]\n",
    "        q = res[i-1][1]\n",
    "        res[i][0] = -ci/(ai * p + bi)  # pi\n",
    "        res[i][1] = (di - ai * q)/(ai * p + bi)  # qi\n",
    "    return res\n",
    "    \n",
    "def back_stage(matrix, column, koef):\n",
    "    m = len(column)\n",
    "    res = np.zeros(m+1)\n",
    "    res[-1] = 0\n",
    "    res[-2] = (column.get(m-1) - matrix.get(m-1, m-2) *koef[-1][1]) / (\n",
    "        koef[-1][0] * matrix.get(m-1, m-2) + matrix.get(m-1, m-1)\n",
    "    )\n",
    "    for i in range(m-2, -1, -1):\n",
    "        res[i] = koef[i][0] * res[i+1] + koef[i][1]\n",
    "    return res\n",
    "\n",
    "def calculate_b(intervals, values, c):\n",
    "    \"\"\"ok\"\"\"\n",
    "    res = np.zeros(len(intervals))\n",
    "    u = (values[1] - values[0])/intervals[0]\n",
    "    res[0] = c[0] * intervals[0] / 3 + u\n",
    "    for i in range(1, len(intervals)):\n",
    "        u = (values[i+1] - values[i])/intervals[i]\n",
    "        res[i] = c[i] * intervals[i] / 3 + c[i-1] * intervals[i] / 6 + u\n",
    "    return res\n",
    "\n",
    "def calculate_d(intervals, c):\n",
    "    \"\"\"ok\"\"\"\n",
    "    res = np.zeros(len(intervals))\n",
    "    res[0] = c[0]/intervals[0]\n",
    "    for i in range(1, len(intervals)):\n",
    "        res[i] = (c[i] - c[i-1]) / intervals[i]\n",
    "    return res\n",
    "\n",
    "def calculate_a(values):\n",
    "    \"\"\"ok\"\"\"\n",
    "    res = values[1:]\n",
    "    return res\n",
    "\n",
    "def calculate(a, b, c, d, x, xi):\n",
    "    res = a + b * (x - xi) + c * ((x - xi)**2) / 2 + d * ((x - xi)**3) / 6\n",
    "    return res\n",
    "\n",
    "def get_intermediate_points(a, b, c, d, x1, x2, num_points):\n",
    "    grid = []\n",
    "    values = []\n",
    "    delta = (x2 - x1) / (num_points - 1)\n",
    "    grid.append(x1)\n",
    "    for j in range(1, num_points-1):\n",
    "        grid.append(x1 + delta*j)\n",
    "    grid.append(x2)\n",
    "    for x in grid:\n",
    "        values.append(calculate(a, b, c, d, x, x2))\n",
    "    return (grid, values)\n",
    "           "
   ]
  },
  {
   "cell_type": "code",
   "execution_count": 3,
   "metadata": {},
   "outputs": [
    {
     "name": "stdout",
     "output_type": "stream",
     "text": [
      "[  -0.33479212 -110.10534027]\n"
     ]
    }
   ],
   "source": [
    "data = np.zeros((2, 10))\n",
    "data[0, :] = [-1.3595, -1.3293, -1.2681, -1.1637, -1.0, -0.7557, -0.4033, 0.0933, 0.7804, 1.7183]\n",
    "data[1, :] = [-0.8, -0.6, -0.4, -0.2, 0, 0.2, 0.4, 0.6, 0.8, 1]\n",
    "intervals = preprocess_data(data)\n",
    "grid = data[0, :]\n",
    "x = data[0, :]\n",
    "values = data[1, :]\n",
    "\n",
    "m = Matrix(intervals)\n",
    "col = Column(data[1, :], intervals)\n",
    "\n",
    "c = back_stage(m, col, forward_stage(m, col))\n",
    "b = calculate_b(intervals, values, c)\n",
    "d = calculate_d(intervals, c)\n",
    "a = calculate_a(values)"
   ]
  },
  {
   "cell_type": "code",
   "execution_count": 4,
   "metadata": {},
   "outputs": [
    {
     "data": {
      "text/plain": "<Figure size 432x288 with 1 Axes>",
      "image/png": "[encoded data removed]"
     },
     "metadata": {
      "needs_background": "light"
     },
     "output_type": "display_data"
    }
   ],
   "source": [
    "args = []\n",
    "gvalues = []\n",
    "for i in range(len(values)-1):\n",
    "    l_args, l_values = get_intermediate_points(a[i], b[i], c[i], d[i], x[i], x[i+1], 20)\n",
    "    args = args + l_args\n",
    "    gvalues = gvalues + l_values\n",
    "plt.plot(args, gvalues, '-')\n",
    "plt.plot(data[0, :], data[1, :], 'r*')\n",
    "plt.grid()\n",
    "plt.show()"
   ]
  },
  {
   "cell_type": "code",
   "execution_count": 5,
   "metadata": {},
   "outputs": [
    {
     "name": "stdout",
     "output_type": "stream",
     "text": [
      "максимальное расхождение значений в узлах: 0.0\n",
      "максимальное расхождение значений производных в узлах: 8.881784197001252e-16\n",
      "максимальное расхождение значений 2 производных в узлах: 0.0\n"
     ]
    }
   ],
   "source": [
    "borders = []\n",
    "der1 = []\n",
    "der2 = []\n",
    "for i in range(len(intervals)):\n",
    "    tmp = a[i] - b[i]*intervals[i] + c[i]*(intervals[i]**2)/2 - d[i]*(intervals[i]**3)/6\n",
    "    borders.append(tmp - values[i])\n",
    "for i in range(1, len(intervals)):\n",
    "    tmp = b[i] - c[i]*(intervals[i]) + d[i]*(intervals[i]**2)/2\n",
    "    res = None\n",
    "    res = tmp - b[i-1]\n",
    "    der1.append(res)\n",
    "for i in range(len(intervals)):\n",
    "    tmp = c[i] - d[i]*intervals[i]\n",
    "    res = None\n",
    "    if i == 0:\n",
    "        res = tmp\n",
    "    else:\n",
    "        res = tmp - c[i-1]\n",
    "    der2.append(res)\n",
    "print('максимальное расхождение значений в узлах: {}'.format(max(borders)))\n",
    "print('максимальное расхождение значений производных в узлах: {}'.format(max(der1)))\n",
    "print('максимальное расхождение значений 2 производных в узлах: {}'.format(max(der2)))"
   ]
  },
  {
   "cell_type": "code",
   "execution_count": 6,
   "metadata": {},
   "outputs": [
    {
     "data": {
      "text/plain": "0.5670340790525347"
     },
     "execution_count": 6,
     "metadata": {},
     "output_type": "execute_result"
    }
   ],
   "source": [
    "calculate(a[6], b[6], c[6], d[6], 0, data[0, 7])"
   ]
  },
  {
   "cell_type": "code",
   "execution_count": 6,
   "metadata": {},
   "outputs": [],
   "source": []
  }
 ],
 "metadata": {
  "kernelspec": {
   "display_name": "Python 3",
   "language": "python",
   "name": "python3"
  },
  "language_info": {
   "codemirror_mode": {
    "name": "ipython",
    "version": 3
   },
   "file_extension": ".py",
   "mimetype": "text/x-python",
   "name": "python",
   "nbconvert_exporter": "python",
   "pygments_lexer": "ipython3",
   "version": "3.8.3"
  }
 },
 "nbformat": 4,
 "nbformat_minor": 4
}